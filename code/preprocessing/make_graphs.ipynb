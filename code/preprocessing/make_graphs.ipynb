{
 "cells": [
  {
   "cell_type": "markdown",
   "source": [
    "# Preprocessing Python Notebook\n",
    "\n",
    "Use this notebook to preprocess your cell expression matrix into the format required for GraphComm. The notebook will output the following files:\n",
    "- nodes.csv\n",
    "- interactions.csv\n",
    "- meta.csv\n",
    "- matrix.csv\n",
    "- LR_nodes.csv\n",
    "- Omnipath_network.csv\n",
    "\n",
    "Please ensure that the input matrix is in the format of cells x genes, and that the column names are the cell names and the row names are the gene names. The meta file should contain the cell names and their corresponding labels. The LR_nodes file should contain the ligand and receptor information, and the Omnipath_network file should contain the interactions between the ligands and receptors."
   ],
   "metadata": {
    "collapsed": false
   }
  },
  {
   "cell_type": "markdown",
   "source": [
    "# Setting the input matrix and folder name\n",
    "\n",
    "Use this cell to set the name of the input matrix you want to preprocess. The matrix file should be placed in a new folder you created in the \"Raw_Data\" directory under \"Data\". The name of this folder will be used as the folder name for the output files. The output files will be saved in the \"Preprocessed_Data\" directory under \"Data\". Please set the `input_matrix_name` and `folder_name` variables accordingly.\n"
   ],
   "metadata": {
    "collapsed": false
   }
  },
  {
   "cell_type": "code",
   "source": [
    "# Change these variables to match your input matrix and folder name\n",
    "input_matrix_name = \"matrix.csv\"\n",
    "folder_name = \"Drosophila\"\n",
    "\n",
    "# DO NOT EDIT THE FOLLOWING PATHS, THEY ARE DERIVED FROM THE ABOVE VARIABLES AND ARE USED TO LOAD AND SAVE THE DATA\n",
    "input_matrix_path = \"../../data/Raw_Data/\" + folder_name + \"/\" + input_matrix_name  # DO NOT EDIT\n",
    "preprocessed_folder_path = \"../../data/Preprocessed_Data/\" + folder_name  # DO NOT EDIT"
   ],
   "metadata": {
    "collapsed": false,
    "ExecuteTime": {
     "end_time": "2024-04-17T00:48:53.778510Z",
     "start_time": "2024-04-17T00:48:53.775569Z"
    }
   },
   "outputs": [],
   "execution_count": 6
  },
  {
   "cell_type": "markdown",
   "source": [
    "# Importing Libraries and Setting Up Environment\n",
    "\n",
    "* We import necessary libraries for data analysis (`pandas`, `anndata`, `scanpy`), visualization (`matplotlib`), and potentially PyTorch Geometric (if the installation commands are uncommented). \n",
    "* Warnings are suppressed using `warnings.filterwarnings('ignore')`.\n"
   ],
   "metadata": {
    "collapsed": false
   }
  },
  {
   "cell_type": "code",
   "metadata": {
    "colab": {
     "base_uri": "https://localhost:8080/"
    },
    "id": "F1op-CbyLuN4",
    "outputId": "77aaf048-dc7e-491d-a0ed-7a13f3692cc0",
    "ExecuteTime": {
     "end_time": "2024-04-17T00:49:05.269056Z",
     "start_time": "2024-04-17T00:48:53.847219Z"
    }
   },
   "source": [
    "from utils import *\n",
    "import pandas as pd # Use modin for parallel processing\n",
    "import anndata as ad\n",
    "import scanpy as sc\n",
    "import warnings\n",
    "import os\n",
    "import datatable as dt\n",
    "import torch\n",
    "\n",
    "warnings.filterwarnings('ignore')\n",
    "\n",
    "os.environ['TORCH'] = torch.__version__\n",
    "print(torch.__version__)\n",
    "\n",
    "# Use all available threads and cores\n",
    "os.environ[\"OMP_NUM_THREADS\"] = str(os.cpu_count())\n",
    "os.environ[\"OPENBLAS_NUM_THREADS\"] = str(os.cpu_count())\n",
    "os.environ[\"MKL_NUM_THREADS\"] = str(os.cpu_count())\n",
    "\n",
    "# Set scanpy to use all available cores\n",
    "sc.settings.n_jobs = -1 \n",
    "\n",
    "# Helper function for visualization.\n",
    "%matplotlib inline"
   ],
   "outputs": [
    {
     "name": "stdout",
     "output_type": "stream",
     "text": [
      "2.2.1+cu121\n"
     ]
    },
    {
     "name": "stderr",
     "output_type": "stream",
     "text": [
      "\n",
      "\u001B[1m[\u001B[0m\u001B[34;49mnotice\u001B[0m\u001B[1;39;49m]\u001B[0m\u001B[39;49m A new release of pip is available: \u001B[0m\u001B[31;49m23.2.1\u001B[0m\u001B[39;49m -> \u001B[0m\u001B[32;49m24.0\u001B[0m\n",
      "\u001B[1m[\u001B[0m\u001B[34;49mnotice\u001B[0m\u001B[1;39;49m]\u001B[0m\u001B[39;49m To update, run: \u001B[0m\u001B[32;49mpip install --upgrade pip\u001B[0m\n",
      "\n",
      "\u001B[1m[\u001B[0m\u001B[34;49mnotice\u001B[0m\u001B[1;39;49m]\u001B[0m\u001B[39;49m A new release of pip is available: \u001B[0m\u001B[31;49m23.2.1\u001B[0m\u001B[39;49m -> \u001B[0m\u001B[32;49m24.0\u001B[0m\n",
      "\u001B[1m[\u001B[0m\u001B[34;49mnotice\u001B[0m\u001B[1;39;49m]\u001B[0m\u001B[39;49m To update, run: \u001B[0m\u001B[32;49mpip install --upgrade pip\u001B[0m\n",
      "\n",
      "\u001B[1m[\u001B[0m\u001B[34;49mnotice\u001B[0m\u001B[1;39;49m]\u001B[0m\u001B[39;49m A new release of pip is available: \u001B[0m\u001B[31;49m23.2.1\u001B[0m\u001B[39;49m -> \u001B[0m\u001B[32;49m24.0\u001B[0m\n",
      "\u001B[1m[\u001B[0m\u001B[34;49mnotice\u001B[0m\u001B[1;39;49m]\u001B[0m\u001B[39;49m To update, run: \u001B[0m\u001B[32;49mpip install --upgrade pip\u001B[0m\n"
     ]
    },
    {
     "ename": "KeyError",
     "evalue": "'PolyCollection:kwdoc'",
     "output_type": "error",
     "traceback": [
      "\u001B[0;31m---------------------------------------------------------------------------\u001B[0m",
      "\u001B[0;31mValueError\u001B[0m                                Traceback (most recent call last)",
      "File \u001B[0;32m~/Documents/1_Western-University/1_Courses/Year-4/Full-Year/CS-4490Z/GraphComm_2/.venv/lib/python3.10/site-packages/matplotlib/_docstring.py:57\u001B[0m, in \u001B[0;36m_ArtistKwdocLoader.__missing__\u001B[0;34m(self, key)\u001B[0m\n\u001B[1;32m     56\u001B[0m \u001B[38;5;28;01mtry\u001B[39;00m:\n\u001B[0;32m---> 57\u001B[0m     \u001B[38;5;28mcls\u001B[39m, \u001B[38;5;241m=\u001B[39m [\u001B[38;5;28mcls\u001B[39m \u001B[38;5;28;01mfor\u001B[39;00m \u001B[38;5;28mcls\u001B[39m \u001B[38;5;129;01min\u001B[39;00m _api\u001B[38;5;241m.\u001B[39mrecursive_subclasses(Artist)\n\u001B[1;32m     58\u001B[0m             \u001B[38;5;28;01mif\u001B[39;00m \u001B[38;5;28mcls\u001B[39m\u001B[38;5;241m.\u001B[39m\u001B[38;5;18m__name__\u001B[39m \u001B[38;5;241m==\u001B[39m name]\n\u001B[1;32m     59\u001B[0m \u001B[38;5;28;01mexcept\u001B[39;00m \u001B[38;5;167;01mValueError\u001B[39;00m \u001B[38;5;28;01mas\u001B[39;00m e:\n",
      "\u001B[0;31mValueError\u001B[0m: too many values to unpack (expected 1)",
      "\nThe above exception was the direct cause of the following exception:\n",
      "\u001B[0;31mKeyError\u001B[0m                                  Traceback (most recent call last)",
      "Cell \u001B[0;32mIn[7], line 1\u001B[0m\n\u001B[0;32m----> 1\u001B[0m \u001B[38;5;28;01mfrom\u001B[39;00m \u001B[38;5;21;01mutils\u001B[39;00m \u001B[38;5;28;01mimport\u001B[39;00m \u001B[38;5;241m*\u001B[39m\n\u001B[1;32m      2\u001B[0m \u001B[38;5;28;01mimport\u001B[39;00m \u001B[38;5;21;01mpandas\u001B[39;00m \u001B[38;5;28;01mas\u001B[39;00m \u001B[38;5;21;01mpd\u001B[39;00m \u001B[38;5;66;03m# Use modin for parallel processing\u001B[39;00m\n\u001B[1;32m      3\u001B[0m \u001B[38;5;28;01mimport\u001B[39;00m \u001B[38;5;21;01manndata\u001B[39;00m \u001B[38;5;28;01mas\u001B[39;00m \u001B[38;5;21;01mad\u001B[39;00m\n",
      "File \u001B[0;32m~/Documents/1_Western-University/1_Courses/Year-4/Full-Year/CS-4490Z/GraphComm_2/code/preprocessing/utils.py:15\u001B[0m\n\u001B[1;32m     12\u001B[0m os\u001B[38;5;241m.\u001B[39msystem(\u001B[38;5;124m'\u001B[39m\u001B[38;5;124mpip install -q git+https://github.com/pyg-team/pytorch_geometric.git\u001B[39m\u001B[38;5;124m'\u001B[39m)\n\u001B[1;32m     14\u001B[0m \u001B[38;5;66;03m# Helper function for visualization.\u001B[39;00m\n\u001B[0;32m---> 15\u001B[0m \u001B[38;5;28;01mimport\u001B[39;00m \u001B[38;5;21;01mmatplotlib\u001B[39;00m\u001B[38;5;21;01m.\u001B[39;00m\u001B[38;5;21;01mpyplot\u001B[39;00m \u001B[38;5;28;01mas\u001B[39;00m \u001B[38;5;21;01mplt\u001B[39;00m\n\u001B[1;32m     16\u001B[0m \u001B[38;5;28;01mfrom\u001B[39;00m \u001B[38;5;21;01msklearn\u001B[39;00m\u001B[38;5;21;01m.\u001B[39;00m\u001B[38;5;21;01mmanifold\u001B[39;00m \u001B[38;5;28;01mimport\u001B[39;00m TSNE\n\u001B[1;32m     17\u001B[0m \u001B[38;5;28;01mfrom\u001B[39;00m \u001B[38;5;21;01mutils\u001B[39;00m \u001B[38;5;28;01mimport\u001B[39;00m \u001B[38;5;241m*\u001B[39m\n",
      "File \u001B[0;32m~/Documents/1_Western-University/1_Courses/Year-4/Full-Year/CS-4490Z/GraphComm_2/.venv/lib/python3.10/site-packages/matplotlib/pyplot.py:66\u001B[0m\n\u001B[1;32m     63\u001B[0m \u001B[38;5;28;01mfrom\u001B[39;00m \u001B[38;5;21;01mmatplotlib\u001B[39;00m \u001B[38;5;28;01mimport\u001B[39;00m _docstring\n\u001B[1;32m     64\u001B[0m \u001B[38;5;28;01mfrom\u001B[39;00m \u001B[38;5;21;01mmatplotlib\u001B[39;00m\u001B[38;5;21;01m.\u001B[39;00m\u001B[38;5;21;01mbackend_bases\u001B[39;00m \u001B[38;5;28;01mimport\u001B[39;00m (\n\u001B[1;32m     65\u001B[0m     FigureCanvasBase, FigureManagerBase, MouseButton)\n\u001B[0;32m---> 66\u001B[0m \u001B[38;5;28;01mfrom\u001B[39;00m \u001B[38;5;21;01mmatplotlib\u001B[39;00m\u001B[38;5;21;01m.\u001B[39;00m\u001B[38;5;21;01mfigure\u001B[39;00m \u001B[38;5;28;01mimport\u001B[39;00m Figure, FigureBase, figaspect\n\u001B[1;32m     67\u001B[0m \u001B[38;5;28;01mfrom\u001B[39;00m \u001B[38;5;21;01mmatplotlib\u001B[39;00m\u001B[38;5;21;01m.\u001B[39;00m\u001B[38;5;21;01mgridspec\u001B[39;00m \u001B[38;5;28;01mimport\u001B[39;00m GridSpec, SubplotSpec\n\u001B[1;32m     68\u001B[0m \u001B[38;5;28;01mfrom\u001B[39;00m \u001B[38;5;21;01mmatplotlib\u001B[39;00m \u001B[38;5;28;01mimport\u001B[39;00m rcsetup, rcParamsDefault, rcParamsOrig\n",
      "File \u001B[0;32m~/Documents/1_Western-University/1_Courses/Year-4/Full-Year/CS-4490Z/GraphComm_2/.venv/lib/python3.10/site-packages/matplotlib/figure.py:43\u001B[0m\n\u001B[1;32m     40\u001B[0m \u001B[38;5;28;01mimport\u001B[39;00m \u001B[38;5;21;01mnumpy\u001B[39;00m \u001B[38;5;28;01mas\u001B[39;00m \u001B[38;5;21;01mnp\u001B[39;00m\n\u001B[1;32m     42\u001B[0m \u001B[38;5;28;01mimport\u001B[39;00m \u001B[38;5;21;01mmatplotlib\u001B[39;00m \u001B[38;5;28;01mas\u001B[39;00m \u001B[38;5;21;01mmpl\u001B[39;00m\n\u001B[0;32m---> 43\u001B[0m \u001B[38;5;28;01mfrom\u001B[39;00m \u001B[38;5;21;01mmatplotlib\u001B[39;00m \u001B[38;5;28;01mimport\u001B[39;00m _blocking_input, backend_bases, _docstring, projections\n\u001B[1;32m     44\u001B[0m \u001B[38;5;28;01mfrom\u001B[39;00m \u001B[38;5;21;01mmatplotlib\u001B[39;00m\u001B[38;5;21;01m.\u001B[39;00m\u001B[38;5;21;01martist\u001B[39;00m \u001B[38;5;28;01mimport\u001B[39;00m (\n\u001B[1;32m     45\u001B[0m     Artist, allow_rasterization, _finalize_rasterization)\n\u001B[1;32m     46\u001B[0m \u001B[38;5;28;01mfrom\u001B[39;00m \u001B[38;5;21;01mmatplotlib\u001B[39;00m\u001B[38;5;21;01m.\u001B[39;00m\u001B[38;5;21;01mbackend_bases\u001B[39;00m \u001B[38;5;28;01mimport\u001B[39;00m (\n\u001B[1;32m     47\u001B[0m     DrawEvent, FigureCanvasBase, NonGuiException, MouseButton, _get_renderer)\n",
      "File \u001B[0;32m~/Documents/1_Western-University/1_Courses/Year-4/Full-Year/CS-4490Z/GraphComm_2/.venv/lib/python3.10/site-packages/matplotlib/projections/__init__.py:55\u001B[0m\n\u001B[1;32m      1\u001B[0m \u001B[38;5;124;03m\"\"\"\u001B[39;00m\n\u001B[1;32m      2\u001B[0m \u001B[38;5;124;03mNon-separable transforms that map from data space to screen space.\u001B[39;00m\n\u001B[1;32m      3\u001B[0m \n\u001B[0;32m   (...)\u001B[0m\n\u001B[1;32m     52\u001B[0m \u001B[38;5;124;03m`matplotlib.projections.polar` may also be of interest.\u001B[39;00m\n\u001B[1;32m     53\u001B[0m \u001B[38;5;124;03m\"\"\"\u001B[39;00m\n\u001B[0;32m---> 55\u001B[0m \u001B[38;5;28;01mfrom\u001B[39;00m \u001B[38;5;21;01m.\u001B[39;00m\u001B[38;5;21;01m.\u001B[39;00m \u001B[38;5;28;01mimport\u001B[39;00m axes, _docstring\n\u001B[1;32m     56\u001B[0m \u001B[38;5;28;01mfrom\u001B[39;00m \u001B[38;5;21;01m.\u001B[39;00m\u001B[38;5;21;01mgeo\u001B[39;00m \u001B[38;5;28;01mimport\u001B[39;00m AitoffAxes, HammerAxes, LambertAxes, MollweideAxes\n\u001B[1;32m     57\u001B[0m \u001B[38;5;28;01mfrom\u001B[39;00m \u001B[38;5;21;01m.\u001B[39;00m\u001B[38;5;21;01mpolar\u001B[39;00m \u001B[38;5;28;01mimport\u001B[39;00m PolarAxes\n",
      "File \u001B[0;32m~/Documents/1_Western-University/1_Courses/Year-4/Full-Year/CS-4490Z/GraphComm_2/.venv/lib/python3.10/site-packages/matplotlib/axes/__init__.py:2\u001B[0m\n\u001B[1;32m      1\u001B[0m \u001B[38;5;28;01mfrom\u001B[39;00m \u001B[38;5;21;01m.\u001B[39;00m \u001B[38;5;28;01mimport\u001B[39;00m _base\n\u001B[0;32m----> 2\u001B[0m \u001B[38;5;28;01mfrom\u001B[39;00m \u001B[38;5;21;01m.\u001B[39;00m\u001B[38;5;21;01m_axes\u001B[39;00m \u001B[38;5;28;01mimport\u001B[39;00m \u001B[38;5;241m*\u001B[39m\n\u001B[1;32m      4\u001B[0m \u001B[38;5;66;03m# Backcompat.\u001B[39;00m\n\u001B[1;32m      5\u001B[0m \u001B[38;5;28;01mfrom\u001B[39;00m \u001B[38;5;21;01m.\u001B[39;00m\u001B[38;5;21;01m_axes\u001B[39;00m \u001B[38;5;28;01mimport\u001B[39;00m Axes \u001B[38;5;28;01mas\u001B[39;00m Subplot\n",
      "File \u001B[0;32m~/Documents/1_Western-University/1_Courses/Year-4/Full-Year/CS-4490Z/GraphComm_2/.venv/lib/python3.10/site-packages/matplotlib/axes/_axes.py:24\u001B[0m\n\u001B[1;32m     22\u001B[0m \u001B[38;5;28;01mimport\u001B[39;00m \u001B[38;5;21;01mmatplotlib\u001B[39;00m\u001B[38;5;21;01m.\u001B[39;00m\u001B[38;5;21;01mpatches\u001B[39;00m \u001B[38;5;28;01mas\u001B[39;00m \u001B[38;5;21;01mmpatches\u001B[39;00m\n\u001B[1;32m     23\u001B[0m \u001B[38;5;28;01mimport\u001B[39;00m \u001B[38;5;21;01mmatplotlib\u001B[39;00m\u001B[38;5;21;01m.\u001B[39;00m\u001B[38;5;21;01mpath\u001B[39;00m \u001B[38;5;28;01mas\u001B[39;00m \u001B[38;5;21;01mmpath\u001B[39;00m\n\u001B[0;32m---> 24\u001B[0m \u001B[38;5;28;01mimport\u001B[39;00m \u001B[38;5;21;01mmatplotlib\u001B[39;00m\u001B[38;5;21;01m.\u001B[39;00m\u001B[38;5;21;01mquiver\u001B[39;00m \u001B[38;5;28;01mas\u001B[39;00m \u001B[38;5;21;01mmquiver\u001B[39;00m\n\u001B[1;32m     25\u001B[0m \u001B[38;5;28;01mimport\u001B[39;00m \u001B[38;5;21;01mmatplotlib\u001B[39;00m\u001B[38;5;21;01m.\u001B[39;00m\u001B[38;5;21;01mstackplot\u001B[39;00m \u001B[38;5;28;01mas\u001B[39;00m \u001B[38;5;21;01mmstack\u001B[39;00m\n\u001B[1;32m     26\u001B[0m \u001B[38;5;28;01mimport\u001B[39;00m \u001B[38;5;21;01mmatplotlib\u001B[39;00m\u001B[38;5;21;01m.\u001B[39;00m\u001B[38;5;21;01mstreamplot\u001B[39;00m \u001B[38;5;28;01mas\u001B[39;00m \u001B[38;5;21;01mmstream\u001B[39;00m\n",
      "File \u001B[0;32m~/Documents/1_Western-University/1_Courses/Year-4/Full-Year/CS-4490Z/GraphComm_2/.venv/lib/python3.10/site-packages/matplotlib/quiver.py:30\u001B[0m\n\u001B[1;32m     26\u001B[0m \u001B[38;5;28;01mimport\u001B[39;00m \u001B[38;5;21;01mmatplotlib\u001B[39;00m\u001B[38;5;21;01m.\u001B[39;00m\u001B[38;5;21;01mtext\u001B[39;00m \u001B[38;5;28;01mas\u001B[39;00m \u001B[38;5;21;01mmtext\u001B[39;00m\n\u001B[1;32m     27\u001B[0m \u001B[38;5;28;01mimport\u001B[39;00m \u001B[38;5;21;01mmatplotlib\u001B[39;00m\u001B[38;5;21;01m.\u001B[39;00m\u001B[38;5;21;01mtransforms\u001B[39;00m \u001B[38;5;28;01mas\u001B[39;00m \u001B[38;5;21;01mtransforms\u001B[39;00m\n\u001B[0;32m---> 30\u001B[0m _quiver_doc \u001B[38;5;241m=\u001B[39m \u001B[38;5;124;43m\"\"\"\u001B[39;49m\n\u001B[1;32m     31\u001B[0m \u001B[38;5;124;43mPlot a 2D field of arrows.\u001B[39;49m\n\u001B[1;32m     32\u001B[0m \n\u001B[1;32m     33\u001B[0m \u001B[38;5;124;43mCall signature::\u001B[39;49m\n\u001B[1;32m     34\u001B[0m \n\u001B[1;32m     35\u001B[0m \u001B[38;5;124;43m  quiver([X, Y], U, V, [C], **kwargs)\u001B[39;49m\n\u001B[1;32m     36\u001B[0m \n\u001B[1;32m     37\u001B[0m \u001B[38;5;124;43m*X*, *Y* define the arrow locations, *U*, *V* define the arrow directions, and\u001B[39;49m\n\u001B[1;32m     38\u001B[0m \u001B[38;5;124;43m*C* optionally sets the color.\u001B[39;49m\n\u001B[1;32m     39\u001B[0m \n\u001B[1;32m     40\u001B[0m \u001B[38;5;124;43m**Arrow length**\u001B[39;49m\n\u001B[1;32m     41\u001B[0m \n\u001B[1;32m     42\u001B[0m \u001B[38;5;124;43mThe default settings auto-scales the length of the arrows to a reasonable size.\u001B[39;49m\n\u001B[1;32m     43\u001B[0m \u001B[38;5;124;43mTo change this behavior see the *scale* and *scale_units* parameters.\u001B[39;49m\n\u001B[1;32m     44\u001B[0m \n\u001B[1;32m     45\u001B[0m \u001B[38;5;124;43m**Arrow shape**\u001B[39;49m\n\u001B[1;32m     46\u001B[0m \n\u001B[1;32m     47\u001B[0m \u001B[38;5;124;43mThe arrow shape is determined by *width*, *headwidth*, *headlength* and\u001B[39;49m\n\u001B[1;32m     48\u001B[0m \u001B[38;5;124;43m*headaxislength*. See the notes below.\u001B[39;49m\n\u001B[1;32m     49\u001B[0m \n\u001B[1;32m     50\u001B[0m \u001B[38;5;124;43m**Arrow styling**\u001B[39;49m\n\u001B[1;32m     51\u001B[0m \n\u001B[1;32m     52\u001B[0m \u001B[38;5;124;43mEach arrow is internally represented by a filled polygon with a default edge\u001B[39;49m\n\u001B[1;32m     53\u001B[0m \u001B[38;5;124;43mlinewidth of 0. As a result, an arrow is rather a filled area, not a line with\u001B[39;49m\n\u001B[1;32m     54\u001B[0m \u001B[38;5;124;43ma head, and `.PolyCollection` properties like *linewidth*, *edgecolor*,\u001B[39;49m\n\u001B[1;32m     55\u001B[0m \u001B[38;5;124;43m*facecolor*, etc. act accordingly.\u001B[39;49m\n\u001B[1;32m     56\u001B[0m \n\u001B[1;32m     57\u001B[0m \n\u001B[1;32m     58\u001B[0m \u001B[38;5;124;43mParameters\u001B[39;49m\n\u001B[1;32m     59\u001B[0m \u001B[38;5;124;43m----------\u001B[39;49m\n\u001B[1;32m     60\u001B[0m \u001B[38;5;124;43mX, Y : 1D or 2D array-like, optional\u001B[39;49m\n\u001B[1;32m     61\u001B[0m \u001B[38;5;124;43m    The x and y coordinates of the arrow locations.\u001B[39;49m\n\u001B[1;32m     62\u001B[0m \n\u001B[1;32m     63\u001B[0m \u001B[38;5;124;43m    If not given, they will be generated as a uniform integer meshgrid based\u001B[39;49m\n\u001B[1;32m     64\u001B[0m \u001B[38;5;124;43m    on the dimensions of *U* and *V*.\u001B[39;49m\n\u001B[1;32m     65\u001B[0m \n\u001B[1;32m     66\u001B[0m \u001B[38;5;124;43m    If *X* and *Y* are 1D but *U*, *V* are 2D, *X*, *Y* are expanded to 2D\u001B[39;49m\n\u001B[1;32m     67\u001B[0m \u001B[38;5;124;43m    using ``X, Y = np.meshgrid(X, Y)``. In this case ``len(X)`` and ``len(Y)``\u001B[39;49m\n\u001B[1;32m     68\u001B[0m \u001B[38;5;124;43m    must match the column and row dimensions of *U* and *V*.\u001B[39;49m\n\u001B[1;32m     69\u001B[0m \n\u001B[1;32m     70\u001B[0m \u001B[38;5;124;43mU, V : 1D or 2D array-like\u001B[39;49m\n\u001B[1;32m     71\u001B[0m \u001B[38;5;124;43m    The x and y direction components of the arrow vectors. The interpretation\u001B[39;49m\n\u001B[1;32m     72\u001B[0m \u001B[38;5;124;43m    of these components (in data or in screen space) depends on *angles*.\u001B[39;49m\n\u001B[1;32m     73\u001B[0m \n\u001B[1;32m     74\u001B[0m \u001B[38;5;124;43m    *U* and *V* must have the same number of elements, matching the number of\u001B[39;49m\n\u001B[1;32m     75\u001B[0m \u001B[38;5;124;43m    arrow locations in  *X*, *Y*. *U* and *V* may be masked. Locations masked\u001B[39;49m\n\u001B[1;32m     76\u001B[0m \u001B[38;5;124;43m    in any of *U*, *V*, and *C* will not be drawn.\u001B[39;49m\n\u001B[1;32m     77\u001B[0m \n\u001B[1;32m     78\u001B[0m \u001B[38;5;124;43mC : 1D or 2D array-like, optional\u001B[39;49m\n\u001B[1;32m     79\u001B[0m \u001B[38;5;124;43m    Numeric data that defines the arrow colors by colormapping via *norm* and\u001B[39;49m\n\u001B[1;32m     80\u001B[0m \u001B[38;5;124;43m    *cmap*.\u001B[39;49m\n\u001B[1;32m     81\u001B[0m \n\u001B[1;32m     82\u001B[0m \u001B[38;5;124;43m    This does not support explicit colors. If you want to set colors directly,\u001B[39;49m\n\u001B[1;32m     83\u001B[0m \u001B[38;5;124;43m    use *color* instead.  The size of *C* must match the number of arrow\u001B[39;49m\n\u001B[1;32m     84\u001B[0m \u001B[38;5;124;43m    locations.\u001B[39;49m\n\u001B[1;32m     85\u001B[0m \n\u001B[1;32m     86\u001B[0m \u001B[38;5;124;43mangles : \u001B[39;49m\u001B[38;5;124;43m{\u001B[39;49m\u001B[38;5;124;43m'\u001B[39;49m\u001B[38;5;124;43muv\u001B[39;49m\u001B[38;5;124;43m'\u001B[39;49m\u001B[38;5;124;43m, \u001B[39;49m\u001B[38;5;124;43m'\u001B[39;49m\u001B[38;5;124;43mxy\u001B[39;49m\u001B[38;5;124;43m'\u001B[39;49m\u001B[38;5;124;43m} or array-like, default: \u001B[39;49m\u001B[38;5;124;43m'\u001B[39;49m\u001B[38;5;124;43muv\u001B[39;49m\u001B[38;5;124;43m'\u001B[39;49m\n\u001B[1;32m     87\u001B[0m \u001B[38;5;124;43m    Method for determining the angle of the arrows.\u001B[39;49m\n\u001B[1;32m     88\u001B[0m \n\u001B[1;32m     89\u001B[0m \u001B[38;5;124;43m    - \u001B[39;49m\u001B[38;5;124;43m'\u001B[39;49m\u001B[38;5;124;43muv\u001B[39;49m\u001B[38;5;124;43m'\u001B[39;49m\u001B[38;5;124;43m: Arrow direction in screen coordinates. Use this if the arrows\u001B[39;49m\n\u001B[1;32m     90\u001B[0m \u001B[38;5;124;43m      symbolize a quantity that is not based on *X*, *Y* data coordinates.\u001B[39;49m\n\u001B[1;32m     91\u001B[0m \n\u001B[1;32m     92\u001B[0m \u001B[38;5;124;43m      If *U* == *V* the orientation of the arrow on the plot is 45 degrees\u001B[39;49m\n\u001B[1;32m     93\u001B[0m \u001B[38;5;124;43m      counter-clockwise from the  horizontal axis (positive to the right).\u001B[39;49m\n\u001B[1;32m     94\u001B[0m \n\u001B[1;32m     95\u001B[0m \u001B[38;5;124;43m    - \u001B[39;49m\u001B[38;5;124;43m'\u001B[39;49m\u001B[38;5;124;43mxy\u001B[39;49m\u001B[38;5;124;43m'\u001B[39;49m\u001B[38;5;124;43m: Arrow direction in data coordinates, i.e. the arrows point from\u001B[39;49m\n\u001B[1;32m     96\u001B[0m \u001B[38;5;124;43m      (x, y) to (x+u, y+v). Use this e.g. for plotting a gradient field.\u001B[39;49m\n\u001B[1;32m     97\u001B[0m \n\u001B[1;32m     98\u001B[0m \u001B[38;5;124;43m    - Arbitrary angles may be specified explicitly as an array of values\u001B[39;49m\n\u001B[1;32m     99\u001B[0m \u001B[38;5;124;43m      in degrees, counter-clockwise from the horizontal axis.\u001B[39;49m\n\u001B[1;32m    100\u001B[0m \n\u001B[1;32m    101\u001B[0m \u001B[38;5;124;43m      In this case *U*, *V* is only used to determine the length of the\u001B[39;49m\n\u001B[1;32m    102\u001B[0m \u001B[38;5;124;43m      arrows.\u001B[39;49m\n\u001B[1;32m    103\u001B[0m \n\u001B[1;32m    104\u001B[0m \u001B[38;5;124;43m    Note: inverting a data axis will correspondingly invert the\u001B[39;49m\n\u001B[1;32m    105\u001B[0m \u001B[38;5;124;43m    arrows only with ``angles=\u001B[39;49m\u001B[38;5;124;43m'\u001B[39;49m\u001B[38;5;124;43mxy\u001B[39;49m\u001B[38;5;124;43m'\u001B[39;49m\u001B[38;5;124;43m``.\u001B[39;49m\n\u001B[1;32m    106\u001B[0m \n\u001B[1;32m    107\u001B[0m \u001B[38;5;124;43mpivot : \u001B[39;49m\u001B[38;5;124;43m{\u001B[39;49m\u001B[38;5;124;43m'\u001B[39;49m\u001B[38;5;124;43mtail\u001B[39;49m\u001B[38;5;124;43m'\u001B[39;49m\u001B[38;5;124;43m, \u001B[39;49m\u001B[38;5;124;43m'\u001B[39;49m\u001B[38;5;124;43mmid\u001B[39;49m\u001B[38;5;124;43m'\u001B[39;49m\u001B[38;5;124;43m, \u001B[39;49m\u001B[38;5;124;43m'\u001B[39;49m\u001B[38;5;124;43mmiddle\u001B[39;49m\u001B[38;5;124;43m'\u001B[39;49m\u001B[38;5;124;43m, \u001B[39;49m\u001B[38;5;124;43m'\u001B[39;49m\u001B[38;5;124;43mtip\u001B[39;49m\u001B[38;5;124;43m'\u001B[39;49m\u001B[38;5;124;43m}, default: \u001B[39;49m\u001B[38;5;124;43m'\u001B[39;49m\u001B[38;5;124;43mtail\u001B[39;49m\u001B[38;5;124;43m'\u001B[39;49m\n\u001B[1;32m    108\u001B[0m \u001B[38;5;124;43m    The part of the arrow that is anchored to the *X*, *Y* grid. The arrow\u001B[39;49m\n\u001B[1;32m    109\u001B[0m \u001B[38;5;124;43m    rotates about this point.\u001B[39;49m\n\u001B[1;32m    110\u001B[0m \n\u001B[1;32m    111\u001B[0m \u001B[38;5;124;43m    \u001B[39;49m\u001B[38;5;124;43m'\u001B[39;49m\u001B[38;5;124;43mmid\u001B[39;49m\u001B[38;5;124;43m'\u001B[39;49m\u001B[38;5;124;43m is a synonym for \u001B[39;49m\u001B[38;5;124;43m'\u001B[39;49m\u001B[38;5;124;43mmiddle\u001B[39;49m\u001B[38;5;124;43m'\u001B[39;49m\u001B[38;5;124;43m.\u001B[39;49m\n\u001B[1;32m    112\u001B[0m \n\u001B[1;32m    113\u001B[0m \u001B[38;5;124;43mscale : float, optional\u001B[39;49m\n\u001B[1;32m    114\u001B[0m \u001B[38;5;124;43m    Scales the length of the arrow inversely.\u001B[39;49m\n\u001B[1;32m    115\u001B[0m \n\u001B[1;32m    116\u001B[0m \u001B[38;5;124;43m    Number of data units per arrow length unit, e.g., m/s per plot width; a\u001B[39;49m\n\u001B[1;32m    117\u001B[0m \u001B[38;5;124;43m    smaller scale parameter makes the arrow longer. Default is *None*.\u001B[39;49m\n\u001B[1;32m    118\u001B[0m \n\u001B[1;32m    119\u001B[0m \u001B[38;5;124;43m    If *None*, a simple autoscaling algorithm is used, based on the average\u001B[39;49m\n\u001B[1;32m    120\u001B[0m \u001B[38;5;124;43m    vector length and the number of vectors. The arrow length unit is given by\u001B[39;49m\n\u001B[1;32m    121\u001B[0m \u001B[38;5;124;43m    the *scale_units* parameter.\u001B[39;49m\n\u001B[1;32m    122\u001B[0m \n\u001B[1;32m    123\u001B[0m \u001B[38;5;124;43mscale_units : \u001B[39;49m\u001B[38;5;124;43m{\u001B[39;49m\u001B[38;5;124;43m'\u001B[39;49m\u001B[38;5;124;43mwidth\u001B[39;49m\u001B[38;5;124;43m'\u001B[39;49m\u001B[38;5;124;43m, \u001B[39;49m\u001B[38;5;124;43m'\u001B[39;49m\u001B[38;5;124;43mheight\u001B[39;49m\u001B[38;5;124;43m'\u001B[39;49m\u001B[38;5;124;43m, \u001B[39;49m\u001B[38;5;124;43m'\u001B[39;49m\u001B[38;5;124;43mdots\u001B[39;49m\u001B[38;5;124;43m'\u001B[39;49m\u001B[38;5;124;43m, \u001B[39;49m\u001B[38;5;124;43m'\u001B[39;49m\u001B[38;5;124;43minches\u001B[39;49m\u001B[38;5;124;43m'\u001B[39;49m\u001B[38;5;124;43m, \u001B[39;49m\u001B[38;5;124;43m'\u001B[39;49m\u001B[38;5;124;43mx\u001B[39;49m\u001B[38;5;124;43m'\u001B[39;49m\u001B[38;5;124;43m, \u001B[39;49m\u001B[38;5;124;43m'\u001B[39;49m\u001B[38;5;124;43my\u001B[39;49m\u001B[38;5;124;43m'\u001B[39;49m\u001B[38;5;124;43m, \u001B[39;49m\u001B[38;5;124;43m'\u001B[39;49m\u001B[38;5;124;43mxy\u001B[39;49m\u001B[38;5;124;43m'\u001B[39;49m\u001B[38;5;124;43m}, optional\u001B[39;49m\n\u001B[1;32m    124\u001B[0m \u001B[38;5;124;43m    If the *scale* kwarg is *None*, the arrow length unit. Default is *None*.\u001B[39;49m\n\u001B[1;32m    125\u001B[0m \n\u001B[1;32m    126\u001B[0m \u001B[38;5;124;43m    e.g. *scale_units* is \u001B[39;49m\u001B[38;5;124;43m'\u001B[39;49m\u001B[38;5;124;43minches\u001B[39;49m\u001B[38;5;124;43m'\u001B[39;49m\u001B[38;5;124;43m, *scale* is 2.0, and ``(u, v) = (1, 0)``,\u001B[39;49m\n\u001B[1;32m    127\u001B[0m \u001B[38;5;124;43m    then the vector will be 0.5 inches long.\u001B[39;49m\n\u001B[1;32m    128\u001B[0m \n\u001B[1;32m    129\u001B[0m \u001B[38;5;124;43m    If *scale_units* is \u001B[39;49m\u001B[38;5;124;43m'\u001B[39;49m\u001B[38;5;124;43mwidth\u001B[39;49m\u001B[38;5;124;43m'\u001B[39;49m\u001B[38;5;124;43m or \u001B[39;49m\u001B[38;5;124;43m'\u001B[39;49m\u001B[38;5;124;43mheight\u001B[39;49m\u001B[38;5;124;43m'\u001B[39;49m\u001B[38;5;124;43m, then the vector will be half the\u001B[39;49m\n\u001B[1;32m    130\u001B[0m \u001B[38;5;124;43m    width/height of the axes.\u001B[39;49m\n\u001B[1;32m    131\u001B[0m \n\u001B[1;32m    132\u001B[0m \u001B[38;5;124;43m    If *scale_units* is \u001B[39;49m\u001B[38;5;124;43m'\u001B[39;49m\u001B[38;5;124;43mx\u001B[39;49m\u001B[38;5;124;43m'\u001B[39;49m\u001B[38;5;124;43m then the vector will be 0.5 x-axis\u001B[39;49m\n\u001B[1;32m    133\u001B[0m \u001B[38;5;124;43m    units. To plot vectors in the x-y plane, with u and v having\u001B[39;49m\n\u001B[1;32m    134\u001B[0m \u001B[38;5;124;43m    the same units as x and y, use\u001B[39;49m\n\u001B[1;32m    135\u001B[0m \u001B[38;5;124;43m    ``angles=\u001B[39;49m\u001B[38;5;124;43m'\u001B[39;49m\u001B[38;5;124;43mxy\u001B[39;49m\u001B[38;5;124;43m'\u001B[39;49m\u001B[38;5;124;43m, scale_units=\u001B[39;49m\u001B[38;5;124;43m'\u001B[39;49m\u001B[38;5;124;43mxy\u001B[39;49m\u001B[38;5;124;43m'\u001B[39;49m\u001B[38;5;124;43m, scale=1``.\u001B[39;49m\n\u001B[1;32m    136\u001B[0m \n\u001B[1;32m    137\u001B[0m \u001B[38;5;124;43munits : \u001B[39;49m\u001B[38;5;124;43m{\u001B[39;49m\u001B[38;5;124;43m'\u001B[39;49m\u001B[38;5;124;43mwidth\u001B[39;49m\u001B[38;5;124;43m'\u001B[39;49m\u001B[38;5;124;43m, \u001B[39;49m\u001B[38;5;124;43m'\u001B[39;49m\u001B[38;5;124;43mheight\u001B[39;49m\u001B[38;5;124;43m'\u001B[39;49m\u001B[38;5;124;43m, \u001B[39;49m\u001B[38;5;124;43m'\u001B[39;49m\u001B[38;5;124;43mdots\u001B[39;49m\u001B[38;5;124;43m'\u001B[39;49m\u001B[38;5;124;43m, \u001B[39;49m\u001B[38;5;124;43m'\u001B[39;49m\u001B[38;5;124;43minches\u001B[39;49m\u001B[38;5;124;43m'\u001B[39;49m\u001B[38;5;124;43m, \u001B[39;49m\u001B[38;5;124;43m'\u001B[39;49m\u001B[38;5;124;43mx\u001B[39;49m\u001B[38;5;124;43m'\u001B[39;49m\u001B[38;5;124;43m, \u001B[39;49m\u001B[38;5;124;43m'\u001B[39;49m\u001B[38;5;124;43my\u001B[39;49m\u001B[38;5;124;43m'\u001B[39;49m\u001B[38;5;124;43m, \u001B[39;49m\u001B[38;5;124;43m'\u001B[39;49m\u001B[38;5;124;43mxy\u001B[39;49m\u001B[38;5;124;43m'\u001B[39;49m\u001B[38;5;124;43m}, default: \u001B[39;49m\u001B[38;5;124;43m'\u001B[39;49m\u001B[38;5;124;43mwidth\u001B[39;49m\u001B[38;5;124;43m'\u001B[39;49m\n\u001B[1;32m    138\u001B[0m \u001B[38;5;124;43m    Affects the arrow size (except for the length). In particular, the shaft\u001B[39;49m\n\u001B[1;32m    139\u001B[0m \u001B[38;5;124;43m    *width* is measured in multiples of this unit.\u001B[39;49m\n\u001B[1;32m    140\u001B[0m \n\u001B[1;32m    141\u001B[0m \u001B[38;5;124;43m    Supported values are:\u001B[39;49m\n\u001B[1;32m    142\u001B[0m \n\u001B[1;32m    143\u001B[0m \u001B[38;5;124;43m    - \u001B[39;49m\u001B[38;5;124;43m'\u001B[39;49m\u001B[38;5;124;43mwidth\u001B[39;49m\u001B[38;5;124;43m'\u001B[39;49m\u001B[38;5;124;43m, \u001B[39;49m\u001B[38;5;124;43m'\u001B[39;49m\u001B[38;5;124;43mheight\u001B[39;49m\u001B[38;5;124;43m'\u001B[39;49m\u001B[38;5;124;43m: The width or height of the Axes.\u001B[39;49m\n\u001B[1;32m    144\u001B[0m \u001B[38;5;124;43m    - \u001B[39;49m\u001B[38;5;124;43m'\u001B[39;49m\u001B[38;5;124;43mdots\u001B[39;49m\u001B[38;5;124;43m'\u001B[39;49m\u001B[38;5;124;43m, \u001B[39;49m\u001B[38;5;124;43m'\u001B[39;49m\u001B[38;5;124;43minches\u001B[39;49m\u001B[38;5;124;43m'\u001B[39;49m\u001B[38;5;124;43m: Pixels or inches based on the figure dpi.\u001B[39;49m\n\u001B[1;32m    145\u001B[0m \u001B[38;5;124;43m    - \u001B[39;49m\u001B[38;5;124;43m'\u001B[39;49m\u001B[38;5;124;43mx\u001B[39;49m\u001B[38;5;124;43m'\u001B[39;49m\u001B[38;5;124;43m, \u001B[39;49m\u001B[38;5;124;43m'\u001B[39;49m\u001B[38;5;124;43my\u001B[39;49m\u001B[38;5;124;43m'\u001B[39;49m\u001B[38;5;124;43m, \u001B[39;49m\u001B[38;5;124;43m'\u001B[39;49m\u001B[38;5;124;43mxy\u001B[39;49m\u001B[38;5;124;43m'\u001B[39;49m\u001B[38;5;124;43m: *X*, *Y* or :math:`\u001B[39;49m\u001B[38;5;130;43;01m\\\\\u001B[39;49;00m\u001B[38;5;124;43msqrt\u001B[39;49m\u001B[38;5;124;43m{\u001B[39;49m\u001B[38;5;124;43mX^2 + Y^2}` in data units.\u001B[39;49m\n\u001B[1;32m    146\u001B[0m \n\u001B[1;32m    147\u001B[0m \u001B[38;5;124;43m    The following table summarizes how these values affect the visible arrow\u001B[39;49m\n\u001B[1;32m    148\u001B[0m \u001B[38;5;124;43m    size under zooming and figure size changes:\u001B[39;49m\n\u001B[1;32m    149\u001B[0m \n\u001B[1;32m    150\u001B[0m \u001B[38;5;124;43m    =================  =================   ==================\u001B[39;49m\n\u001B[1;32m    151\u001B[0m \u001B[38;5;124;43m    units              zoom                figure size change\u001B[39;49m\n\u001B[1;32m    152\u001B[0m \u001B[38;5;124;43m    =================  =================   ==================\u001B[39;49m\n\u001B[1;32m    153\u001B[0m \u001B[38;5;124;43m    \u001B[39;49m\u001B[38;5;124;43m'\u001B[39;49m\u001B[38;5;124;43mx\u001B[39;49m\u001B[38;5;124;43m'\u001B[39;49m\u001B[38;5;124;43m, \u001B[39;49m\u001B[38;5;124;43m'\u001B[39;49m\u001B[38;5;124;43my\u001B[39;49m\u001B[38;5;124;43m'\u001B[39;49m\u001B[38;5;124;43m, \u001B[39;49m\u001B[38;5;124;43m'\u001B[39;49m\u001B[38;5;124;43mxy\u001B[39;49m\u001B[38;5;124;43m'\u001B[39;49m\u001B[38;5;124;43m     arrow size scales   —\u001B[39;49m\n\u001B[1;32m    154\u001B[0m \u001B[38;5;124;43m    \u001B[39;49m\u001B[38;5;124;43m'\u001B[39;49m\u001B[38;5;124;43mwidth\u001B[39;49m\u001B[38;5;124;43m'\u001B[39;49m\u001B[38;5;124;43m, \u001B[39;49m\u001B[38;5;124;43m'\u001B[39;49m\u001B[38;5;124;43mheight\u001B[39;49m\u001B[38;5;124;43m'\u001B[39;49m\u001B[38;5;124;43m  —                   arrow size scales\u001B[39;49m\n\u001B[1;32m    155\u001B[0m \u001B[38;5;124;43m    \u001B[39;49m\u001B[38;5;124;43m'\u001B[39;49m\u001B[38;5;124;43mdots\u001B[39;49m\u001B[38;5;124;43m'\u001B[39;49m\u001B[38;5;124;43m, \u001B[39;49m\u001B[38;5;124;43m'\u001B[39;49m\u001B[38;5;124;43minches\u001B[39;49m\u001B[38;5;124;43m'\u001B[39;49m\u001B[38;5;124;43m   —                   —\u001B[39;49m\n\u001B[1;32m    156\u001B[0m \u001B[38;5;124;43m    =================  =================   ==================\u001B[39;49m\n\u001B[1;32m    157\u001B[0m \n\u001B[1;32m    158\u001B[0m \u001B[38;5;124;43mwidth : float, optional\u001B[39;49m\n\u001B[1;32m    159\u001B[0m \u001B[38;5;124;43m    Shaft width in arrow units. All head parameters are relative to *width*.\u001B[39;49m\n\u001B[1;32m    160\u001B[0m \n\u001B[1;32m    161\u001B[0m \u001B[38;5;124;43m    The default depends on choice of *units* above, and number of vectors;\u001B[39;49m\n\u001B[1;32m    162\u001B[0m \u001B[38;5;124;43m    a typical starting value is about 0.005 times the width of the plot.\u001B[39;49m\n\u001B[1;32m    163\u001B[0m \n\u001B[1;32m    164\u001B[0m \u001B[38;5;124;43mheadwidth : float, default: 3\u001B[39;49m\n\u001B[1;32m    165\u001B[0m \u001B[38;5;124;43m    Head width as multiple of shaft *width*. See the notes below.\u001B[39;49m\n\u001B[1;32m    166\u001B[0m \n\u001B[1;32m    167\u001B[0m \u001B[38;5;124;43mheadlength : float, default: 5\u001B[39;49m\n\u001B[1;32m    168\u001B[0m \u001B[38;5;124;43m    Head length as multiple of shaft *width*. See the notes below.\u001B[39;49m\n\u001B[1;32m    169\u001B[0m \n\u001B[1;32m    170\u001B[0m \u001B[38;5;124;43mheadaxislength : float, default: 4.5\u001B[39;49m\n\u001B[1;32m    171\u001B[0m \u001B[38;5;124;43m    Head length at shaft intersection as multiple of shaft *width*.\u001B[39;49m\n\u001B[1;32m    172\u001B[0m \u001B[38;5;124;43m    See the notes below.\u001B[39;49m\n\u001B[1;32m    173\u001B[0m \n\u001B[1;32m    174\u001B[0m \u001B[38;5;124;43mminshaft : float, default: 1\u001B[39;49m\n\u001B[1;32m    175\u001B[0m \u001B[38;5;124;43m    Length below which arrow scales, in units of head length. Do not\u001B[39;49m\n\u001B[1;32m    176\u001B[0m \u001B[38;5;124;43m    set this to less than 1, or small arrows will look terrible!\u001B[39;49m\n\u001B[1;32m    177\u001B[0m \n\u001B[1;32m    178\u001B[0m \u001B[38;5;124;43mminlength : float, default: 1\u001B[39;49m\n\u001B[1;32m    179\u001B[0m \u001B[38;5;124;43m    Minimum length as a multiple of shaft width; if an arrow length\u001B[39;49m\n\u001B[1;32m    180\u001B[0m \u001B[38;5;124;43m    is less than this, plot a dot (hexagon) of this diameter instead.\u001B[39;49m\n\u001B[1;32m    181\u001B[0m \n\u001B[1;32m    182\u001B[0m \u001B[38;5;124;43mcolor : color or color sequence, optional\u001B[39;49m\n\u001B[1;32m    183\u001B[0m \u001B[38;5;124;43m    Explicit color(s) for the arrows. If *C* has been set, *color* has no\u001B[39;49m\n\u001B[1;32m    184\u001B[0m \u001B[38;5;124;43m    effect.\u001B[39;49m\n\u001B[1;32m    185\u001B[0m \n\u001B[1;32m    186\u001B[0m \u001B[38;5;124;43m    This is a synonym for the `.PolyCollection` *facecolor* parameter.\u001B[39;49m\n\u001B[1;32m    187\u001B[0m \n\u001B[1;32m    188\u001B[0m \u001B[38;5;124;43mOther Parameters\u001B[39;49m\n\u001B[1;32m    189\u001B[0m \u001B[38;5;124;43m----------------\u001B[39;49m\n\u001B[1;32m    190\u001B[0m \u001B[38;5;124;43mdata : indexable object, optional\u001B[39;49m\n\u001B[1;32m    191\u001B[0m \u001B[38;5;124;43m    DATA_PARAMETER_PLACEHOLDER\u001B[39;49m\n\u001B[1;32m    192\u001B[0m \n\u001B[1;32m    193\u001B[0m \u001B[38;5;124;43m**kwargs : `~matplotlib.collections.PolyCollection` properties, optional\u001B[39;49m\n\u001B[1;32m    194\u001B[0m \u001B[38;5;124;43m    All other keyword arguments are passed on to `.PolyCollection`:\u001B[39;49m\n\u001B[1;32m    195\u001B[0m \n\u001B[1;32m    196\u001B[0m \u001B[38;5;124;43m    \u001B[39;49m\u001B[38;5;124;43m%\u001B[39;49m\u001B[38;5;124;43m(PolyCollection:kwdoc)s\u001B[39;49m\n\u001B[1;32m    197\u001B[0m \n\u001B[1;32m    198\u001B[0m \u001B[38;5;124;43mReturns\u001B[39;49m\n\u001B[1;32m    199\u001B[0m \u001B[38;5;124;43m-------\u001B[39;49m\n\u001B[1;32m    200\u001B[0m \u001B[38;5;124;43m`~matplotlib.quiver.Quiver`\u001B[39;49m\n\u001B[1;32m    201\u001B[0m \n\u001B[1;32m    202\u001B[0m \u001B[38;5;124;43mSee Also\u001B[39;49m\n\u001B[1;32m    203\u001B[0m \u001B[38;5;124;43m--------\u001B[39;49m\n\u001B[1;32m    204\u001B[0m \u001B[38;5;124;43m.Axes.quiverkey : Add a key to a quiver plot.\u001B[39;49m\n\u001B[1;32m    205\u001B[0m \n\u001B[1;32m    206\u001B[0m \u001B[38;5;124;43mNotes\u001B[39;49m\n\u001B[1;32m    207\u001B[0m \u001B[38;5;124;43m-----\u001B[39;49m\n\u001B[1;32m    208\u001B[0m \n\u001B[1;32m    209\u001B[0m \u001B[38;5;124;43m**Arrow shape**\u001B[39;49m\n\u001B[1;32m    210\u001B[0m \n\u001B[1;32m    211\u001B[0m \u001B[38;5;124;43mThe arrow is drawn as a polygon using the nodes as shown below. The values\u001B[39;49m\n\u001B[1;32m    212\u001B[0m \u001B[38;5;124;43m*headwidth*, *headlength*, and *headaxislength* are in units of *width*.\u001B[39;49m\n\u001B[1;32m    213\u001B[0m \n\u001B[1;32m    214\u001B[0m \u001B[38;5;124;43m.. image:: /_static/quiver_sizes.svg\u001B[39;49m\n\u001B[1;32m    215\u001B[0m \u001B[38;5;124;43m   :width: 500px\u001B[39;49m\n\u001B[1;32m    216\u001B[0m \n\u001B[1;32m    217\u001B[0m \u001B[38;5;124;43mThe defaults give a slightly swept-back arrow. Here are some guidelines how to\u001B[39;49m\n\u001B[1;32m    218\u001B[0m \u001B[38;5;124;43mget other head shapes:\u001B[39;49m\n\u001B[1;32m    219\u001B[0m \n\u001B[1;32m    220\u001B[0m \u001B[38;5;124;43m- To make the head a triangle, make *headaxislength* the same as *headlength*.\u001B[39;49m\n\u001B[1;32m    221\u001B[0m \u001B[38;5;124;43m- To make the arrow more pointed, reduce *headwidth* or increase *headlength*\u001B[39;49m\n\u001B[1;32m    222\u001B[0m \u001B[38;5;124;43m  and *headaxislength*.\u001B[39;49m\n\u001B[1;32m    223\u001B[0m \u001B[38;5;124;43m- To make the head smaller relative to the shaft, scale down all the head\u001B[39;49m\n\u001B[1;32m    224\u001B[0m \u001B[38;5;124;43m  parameters proportionally.\u001B[39;49m\n\u001B[1;32m    225\u001B[0m \u001B[38;5;124;43m- To remove the head completely, set all *head* parameters to 0.\u001B[39;49m\n\u001B[1;32m    226\u001B[0m \u001B[38;5;124;43m- To get a diamond-shaped head, make *headaxislength* larger than *headlength*.\u001B[39;49m\n\u001B[1;32m    227\u001B[0m \u001B[38;5;124;43m- Warning: For *headaxislength* < (*headlength* / *headwidth*), the \u001B[39;49m\u001B[38;5;124;43m\"\u001B[39;49m\u001B[38;5;124;43mheadaxis\u001B[39;49m\u001B[38;5;124;43m\"\u001B[39;49m\n\u001B[1;32m    228\u001B[0m \u001B[38;5;124;43m  nodes (i.e. the ones connecting the head with the shaft) will protrude out\u001B[39;49m\n\u001B[1;32m    229\u001B[0m \u001B[38;5;124;43m  of the head in forward direction so that the arrow head looks broken.\u001B[39;49m\n\u001B[1;32m    230\u001B[0m \u001B[38;5;124;43m\"\"\"\u001B[39;49m\u001B[43m \u001B[49m\u001B[38;5;241;43m%\u001B[39;49m\u001B[43m \u001B[49m\u001B[43m_docstring\u001B[49m\u001B[38;5;241;43m.\u001B[39;49m\u001B[43minterpd\u001B[49m\u001B[38;5;241;43m.\u001B[39;49m\u001B[43mparams\u001B[49m\n\u001B[1;32m    232\u001B[0m _docstring\u001B[38;5;241m.\u001B[39minterpd\u001B[38;5;241m.\u001B[39mupdate(quiver_doc\u001B[38;5;241m=\u001B[39m_quiver_doc)\n\u001B[1;32m    235\u001B[0m \u001B[38;5;28;01mclass\u001B[39;00m \u001B[38;5;21;01mQuiverKey\u001B[39;00m(martist\u001B[38;5;241m.\u001B[39mArtist):\n",
      "File \u001B[0;32m~/Documents/1_Western-University/1_Courses/Year-4/Full-Year/CS-4490Z/GraphComm_2/.venv/lib/python3.10/site-packages/matplotlib/_docstring.py:60\u001B[0m, in \u001B[0;36m_ArtistKwdocLoader.__missing__\u001B[0;34m(self, key)\u001B[0m\n\u001B[1;32m     57\u001B[0m     \u001B[38;5;28mcls\u001B[39m, \u001B[38;5;241m=\u001B[39m [\u001B[38;5;28mcls\u001B[39m \u001B[38;5;28;01mfor\u001B[39;00m \u001B[38;5;28mcls\u001B[39m \u001B[38;5;129;01min\u001B[39;00m _api\u001B[38;5;241m.\u001B[39mrecursive_subclasses(Artist)\n\u001B[1;32m     58\u001B[0m             \u001B[38;5;28;01mif\u001B[39;00m \u001B[38;5;28mcls\u001B[39m\u001B[38;5;241m.\u001B[39m\u001B[38;5;18m__name__\u001B[39m \u001B[38;5;241m==\u001B[39m name]\n\u001B[1;32m     59\u001B[0m \u001B[38;5;28;01mexcept\u001B[39;00m \u001B[38;5;167;01mValueError\u001B[39;00m \u001B[38;5;28;01mas\u001B[39;00m e:\n\u001B[0;32m---> 60\u001B[0m     \u001B[38;5;28;01mraise\u001B[39;00m \u001B[38;5;167;01mKeyError\u001B[39;00m(key) \u001B[38;5;28;01mfrom\u001B[39;00m \u001B[38;5;21;01me\u001B[39;00m\n\u001B[1;32m     61\u001B[0m \u001B[38;5;28;01mreturn\u001B[39;00m \u001B[38;5;28mself\u001B[39m\u001B[38;5;241m.\u001B[39msetdefault(key, kwdoc(\u001B[38;5;28mcls\u001B[39m))\n",
      "\u001B[0;31mKeyError\u001B[0m: 'PolyCollection:kwdoc'"
     ]
    }
   ],
   "execution_count": 7
  },
  {
   "cell_type": "markdown",
   "metadata": {},
   "source": [
    "# Loading and Preprocessing the Data\n",
    "\n",
    "* The CSV file (`matrix.csv`) containing the gene expression data is loaded into a Pandas DataFrame.\n",
    "* An AnnData object is created to store and manipulate gene expression data in a structured format, allowing for efficient analysis.\n",
    "* Scanpy functions are used for preprocessing:\n",
    "    * `filter_genes`: Removes genes expressed in too few cells (potentially low-quality data).\n",
    "    * `normalize_total`: Normalizes the data (e.g., total counts per cell).\n",
    "    * `log1p`: Applies a log transformation to improve the dynamic range of the data.\n",
    "    * `neighbors`: Computes cell neighborhood relationships, which are essential for downstream analyses.\n",
    "    * `leiden`: Performs Leiden clustering to identify groups (clusters) of similar cells based on gene expression patterns."
   ]
  },
  {
   "cell_type": "code",
   "metadata": {},
   "source": [
    "# Load the CSV data using datatable for faster reading\n",
    "dt_frame = dt.fread(input_matrix_path)\n",
    "matrix = dt_frame[:, 1:].to_pandas()"
   ],
   "outputs": [],
   "execution_count": null
  },
  {
   "cell_type": "code",
   "source": [
    "# Get the gene names from the first column\n",
    "gene_names = dt_frame[:, 0].to_list()[0]\n",
    "\n",
    "# Create the AnnData object\n",
    "adata = ad.AnnData(X=matrix.T)\n",
    "\n",
    "# Assign gene names to .var_names if rows represent genes\n",
    "gene_names_str = [str(name) for name in gene_names]\n",
    "adata.var_names = gene_names_str"
   ],
   "metadata": {
    "collapsed": false
   },
   "outputs": [],
   "execution_count": null
  },
  {
   "cell_type": "code",
   "source": [
    "# Preprocessing with Scanpy functions\n",
    "sc.pp.filter_genes(adata, min_cells=5)"
   ],
   "metadata": {
    "collapsed": false
   },
   "outputs": [],
   "execution_count": null
  },
  {
   "cell_type": "code",
   "source": [
    "sc.pp.normalize_total(adata)"
   ],
   "metadata": {
    "collapsed": false
   },
   "outputs": [],
   "execution_count": null
  },
  {
   "cell_type": "code",
   "source": [
    "sc.pp.log1p(adata)"
   ],
   "metadata": {
    "collapsed": false
   },
   "outputs": [],
   "execution_count": null
  },
  {
   "cell_type": "code",
   "source": [
    "sc.pp.neighbors(adata)"
   ],
   "metadata": {
    "collapsed": false
   },
   "outputs": [],
   "execution_count": null
  },
  {
   "cell_type": "code",
   "source": [
    "sc.tl.leiden(adata)"
   ],
   "metadata": {
    "collapsed": false
   },
   "outputs": [],
   "execution_count": null
  },
  {
   "cell_type": "markdown",
   "source": [
    "# Creating Metadata and Refining the Data Structure\n",
    "\n",
    "* We create a `meta` DataFrame to store cell metadata (Leiden clusters).\n",
    "* The gene expression matrix is manipulated (transposed, adjusted).\n",
    "* Further preprocessing steps involve grouping cells by cluster and performing calculations on the matrix.\n"
   ],
   "metadata": {
    "collapsed": false
   }
  },
  {
   "cell_type": "code",
   "metadata": {},
   "source": [
    "# Create a DataFrame containing cell metadata (Leiden cluster labels)\n",
    "meta = pd.DataFrame({\"cell\": adata.obs[\"leiden\"].index.tolist(), \"labels\": adata.obs[\"leiden\"].tolist()})\n",
    "meta.index = meta[\"cell\"].tolist()\n",
    "\n",
    "print(type(meta))\n",
    "\n",
    "# Update the `adata.obs` attribute with the cell metadata\n",
    "adata.obs = meta\n",
    "\n",
    "# Transpose and adjust the matrix DataFrame\n",
    "matrix = pd.DataFrame(adata.X.transpose(), columns=adata.obs.index.tolist(), index=adata.var.index.tolist())\n",
    "\n",
    "# More preprocessing (details would be helpful, specific to your analysis goals)\n",
    "cell_groups = meta['labels'].unique().tolist()  # Get unique cluster labels\n",
    "matrix_list = {}\n",
    "for i in cell_groups:\n",
    "    cells = meta[meta[\"labels\"] == i].index.tolist()  # Get cells in each cluster\n",
    "    temp_matrix = matrix[cells]  # Subset matrix for each cluster\n",
    "    matrix_list[i] = (temp_matrix.mean(axis=1)[temp_matrix.mean(\n",
    "        axis=1) >= 0].index.tolist())  # Further processing (e.g., identify highly expressed genes)"
   ],
   "outputs": [],
   "execution_count": null
  },
  {
   "cell_type": "markdown",
   "metadata": {},
   "source": [
    "# Preparing Cell-Type Specific Expression Data\n",
    "\n",
    "* The `matrix_list` created in the previous section, which likely contains gene expression information aggregated by cell type (cluster), is assigned to the `cell_type_df` variable.\n",
    "* (If necessary) Explain whether transposing `adata` is required at this stage and why.\n"
   ]
  },
  {
   "cell_type": "code",
   "metadata": {},
   "source": [
    "adata = adata.transpose()  # Transpose back for compatibility? \n",
    "cell_type_df = matrix_list"
   ],
   "outputs": [],
   "execution_count": null
  },
  {
   "cell_type": "markdown",
   "source": [
    "# Loading Ligand-Receptor Database\n",
    "\n",
    "* The LR database (`intercell_nodes.csv` and `intercell_interactions.csv`) is loaded. This database likely contains information about known ligands, receptors, and their interaction pathways.\n",
    "* Variables `ligands` and `receptors` contain lists of the ligand and receptor identifiers present in the database. \n"
   ],
   "metadata": {
    "collapsed": false
   }
  },
  {
   "cell_type": "code",
   "metadata": {},
   "source": [
    "nodes = pd.DataFrame({\"category\": [], \"identifier\": []})\n",
    "\n",
    "# LR_nodes represent ligands and receptors\n",
    "LR_nodes = pd.read_csv(\"../../data/LR_database/intercell_nodes.csv\", index_col=0)\n",
    "# Omnipath_network represents known interactions between them\n",
    "Omnipath_network = pd.read_csv(\"../../data/LR_database/intercell_interactions.csv\", index_col=0)\n",
    "\n",
    "ligands = LR_nodes[LR_nodes[\"category\"] == \"Ligand\"][\"identifier\"].tolist()\n",
    "receptors = LR_nodes[LR_nodes[\"category\"] == \"Receptor\"][\"identifier\"].tolist()"
   ],
   "outputs": [],
   "execution_count": null
  },
  {
   "cell_type": "markdown",
   "source": [
    "# Identifying Cell Type-Specific Ligands and Receptors\n",
    "\n",
    "* The code iterates through each cell type (cluster) and compares the expressed genes in that cluster with the known ligands and receptors from the LR database.\n",
    "* `ligand_list` and `receptor_list` keep track of unique ligands and receptors found across cell types.\n",
    "* `new_cell_df` stores lists of expressed ligands and receptors for each individual cell type.\n"
   ],
   "metadata": {
    "collapsed": false
   }
  },
  {
   "cell_type": "code",
   "metadata": {},
   "source": [
    "ligand_list = []\n",
    "receptor_list = []\n",
    "new_cell_df = {}\n",
    "\n",
    "for i in cell_type_df.keys():\n",
    "    # Find ligands and receptors expressed within each cell type\n",
    "    ligand_list.extend(list(set(ligands) & set(cell_type_df[i])))\n",
    "    receptor_list.extend(list(set(receptors) & set(cell_type_df[i])))\n",
    "\n",
    "    # Store expressed ligands and receptors for each cell type (cluster)\n",
    "    new_cell_df[i] = [\n",
    "        list(set(ligands) & set(cell_type_df[i])),  # Expressed ligands \n",
    "        list(set(receptors) & set(cell_type_df[i])),  # Expressed receptors\n",
    "    ]\n",
    "\n",
    "for i in new_cell_df.keys():\n",
    "    # For each key, get the first element of the value list (assumed to be ligands)\n",
    "    # and append \"_Ligand\" to each ligand to create a unique identifier\n",
    "    new_cell_df[i][0] = [j + \"_Ligand\" for j in new_cell_df[i][0]]\n",
    "\n",
    "    # Get the second element of the value list (assumed to be receptors)\n",
    "    # and append \"_Receptor\" to each receptor to create a unique identifier\n",
    "    new_cell_df[i][1] = [j + \"_Receptor\" for j in new_cell_df[i][1]]"
   ],
   "outputs": [],
   "execution_count": null
  },
  {
   "cell_type": "markdown",
   "source": [
    "# Creating the Nodes DataFrame for GraphComm\n",
    "\n",
    "* **Consolidating node types:** The code combines different node types (cell groups, ligands, receptors) into a single `nodes` DataFrame. Each node is assigned a category to distinguish its type.\n",
    "* **Unique identifiers:** Unique identifiers for nodes are created, ensuring consistency and avoiding ambiguity within the graph structure.\n",
    "* **ID assignment:** Each node is assigned a numerical ID to facilitate referencing within the graph structure.\n"
   ],
   "metadata": {
    "collapsed": false
   }
  },
  {
   "cell_type": "code",
   "metadata": {},
   "source": [
    "ligand_list = list(set(ligand_list))  # Get unique ligands\n",
    "receptor_list = list(set(receptor_list))  # Get unique receptors\n",
    "\n",
    "# Rename ligands/receptors to include \"Ligand\" / \"Receptor\" suffixes\n",
    "ligand_list = [i + \"_Ligand\" for i in ligand_list]\n",
    "receptor_list = [i + \"_Receptor\" for i in receptor_list]\n",
    "\n",
    "# Create the nodes DataFrame \n",
    "nodes = pd.concat([\n",
    "    pd.DataFrame(\n",
    "        {\"category\": [\"Cell Group\"] * len(list(cell_type_df.keys())), \"identifier\": list(cell_type_df.keys())}),\n",
    "    pd.DataFrame({\"category\": [\"Ligand\"] * len(ligand_list), \"identifier\": ligand_list}),\n",
    "    pd.DataFrame({\"category\": [\"Receptor\"] * len(receptor_list), \"identifier\": receptor_list})\n",
    "])\n",
    "\n",
    "# Create unique IDs for each node\n",
    "new_identifier = [row[\"identifier\"] + \"_\" + row[\"category\"] for index, row in LR_nodes.iterrows()]\n",
    "LR_nodes[\"identifier\"] = new_identifier\n",
    "\n",
    "# Add ID column to the nodes DataFrame\n",
    "nodes[\"Id\"] = range(0, nodes.shape[0])\n",
    "nodes = nodes[[\"Id\", \"category\", \"identifier\"]]\n",
    "nodes.index = nodes.index.astype('int')\n",
    "nodes[\"Id\"] = nodes[\"Id\"].astype('int')"
   ],
   "outputs": [],
   "execution_count": null
  },
  {
   "cell_type": "markdown",
   "source": [
    "# Creating the Interactions DataFrame for GraphComm\n",
    "\n",
    "* **Interactions within cell groups:** The code defines interactions between cell groups and their expressed ligands and receptors. Each cell group serves as the source, with ligands and receptors expressed by the group being the destinations (targets) of the interactions.\n",
    "* **Edge Attributes:** Sample weights and edge types (assigning all of them with a value of 1) are added to the `interactions` DataFrame.\n",
    "* **ID Mapping:** Node names in the interactions DataFrame are mapped to their corresponding IDs in the `nodes` DataFrame to maintain consistency within the graph structure.\n"
   ],
   "metadata": {
    "collapsed": false
   }
  },
  {
   "cell_type": "code",
   "metadata": {},
   "source": [
    "# Reset index of meta for easy access\n",
    "meta.index = meta[\"cell\"].tolist()\n",
    "\n",
    "# Create the interactions DataFrame\n",
    "interactions = pd.DataFrame({\"Src\": [], \"Dst\": [], \"Weight\": [], \"edge_type\": []})\n",
    "\n",
    "# Aligning DataFrames with Node IDs\n",
    "LR_nodes.index = LR_nodes[\"Id\"].tolist()\n",
    "\n",
    "# (Potentially) increment 'Src' and 'Dst' (Double-check the reason behind this)\n",
    "Omnipath_network[\"Src\"] += 1\n",
    "Omnipath_network[\"Dst\"] += 1\n",
    "Omnipath_network[\"Src\"] = LR_nodes.loc[Omnipath_network[\"Src\"].tolist()][\"identifier\"].tolist()\n",
    "Omnipath_network[\"Dst\"] = LR_nodes.loc[Omnipath_network[\"Dst\"].tolist()][\"identifier\"].tolist()\n",
    "\n",
    "# Add interactions between cell groups and their expressed ligands/receptors\n",
    "source_list = []\n",
    "dest_list = []\n",
    "weight_list = []\n",
    "edge_type_list = []\n",
    "\n",
    "for i in new_cell_df.keys():\n",
    "    source_list.extend([i] * (len(new_cell_df[i][0]) + len(new_cell_df[i][1])))  # Cell group as source\n",
    "    dest_list.extend(new_cell_df[i][0])  # Ligands as destinations\n",
    "    dest_list.extend(new_cell_df[i][1])  # Receptors as destinations\n",
    "    weight_list.extend([1] * (len(new_cell_df[i][0]) + len(new_cell_df[i][1])))  # Sample weight\n",
    "    edge_type_list.extend([1] * (len(new_cell_df[i][0]) + len(new_cell_df[i][1])))  # Sample edge type\n",
    "\n",
    "interactions[\"Src\"] = source_list\n",
    "interactions[\"Dst\"] = dest_list\n",
    "interactions[\"Weight\"] = weight_list\n",
    "interactions[\"edge_type\"] = edge_type_list\n",
    "\n",
    "# Map node identifiers to IDs for consistency\n",
    "nodes.index = nodes[\"identifier\"].tolist()\n",
    "\n",
    "nodes = nodes.drop_duplicates(\"identifier\")\n",
    "nodes[\"Id\"] = range(0, nodes.shape[0])\n",
    "\n",
    "interactions[\"Src\"] = nodes.loc[interactions[\"Src\"].tolist()][\"Id\"].tolist()\n",
    "interactions[\"Dst\"] = nodes.loc[interactions[\"Dst\"].tolist()][\"Id\"].tolist()\n",
    "\n",
    "LR_nodes, interactions"
   ],
   "outputs": [],
   "execution_count": null
  },
  {
   "cell_type": "code",
   "metadata": {},
   "source": [
    "# Prepare data and edit the ground truth for GraphComm\n",
    "first_data, first_nodes, first_interactions = make_dataset(nodes, interactions, first=False, pathway_encode=False)"
   ],
   "outputs": [],
   "execution_count": null
  },
  {
   "cell_type": "markdown",
   "metadata": {},
   "source": [
    "# Refining Data for Consistency with GraphComm\n",
    "\n",
    "This code filters the ligand-receptor database (`LR_nodes` and `Omnipath_network`) to align it with the analyzed dataset. It ensures that only nodes (ligands and receptors) and interactions relevant to the current analysis are included in the data provided to GraphComm."
   ]
  },
  {
   "cell_type": "code",
   "metadata": {},
   "source": [
    "# Setting the 'identifier' column as the index for easier referencing \n",
    "LR_nodes.index = LR_nodes[\"identifier\"].tolist()\n",
    "\n",
    "# Keep only ligands and receptors present in your analyzed dataset\n",
    "LR_nodes = LR_nodes[(LR_nodes[\"identifier\"].isin(ligand_list)) | (LR_nodes[\"identifier\"].isin(receptor_list))]\n",
    "\n",
    "# Filter interactions to include only those with sources and destinations present in the filtered LR_nodes\n",
    "Omnipath_network = Omnipath_network[(Omnipath_network[\"Src\"].isin(LR_nodes[\"identifier\"].tolist())) & (\n",
    "    Omnipath_network[\"Dst\"].isin(LR_nodes[\"identifier\"].tolist()))]\n",
    "\n",
    "# Update the lists of ligand and receptor identifiers \n",
    "ligand_list = Omnipath_network[\"Src\"].tolist()\n",
    "receptor_list = Omnipath_network[\"Dst\"].tolist()\n",
    "\n",
    "# Further refine LR_nodes to include only the remaining ligands and receptors\n",
    "LR_nodes = LR_nodes[(LR_nodes[\"identifier\"].isin(ligand_list)) | (LR_nodes[\"identifier\"].isin(receptor_list))]\n",
    "\n",
    "# Filter Omnipath_network to include interactions consistent with the refined LR_nodes\n",
    "Omnipath_network = Omnipath_network[(Omnipath_network[\"Src\"].isin(LR_nodes[\"identifier\"].tolist())) & (\n",
    "    Omnipath_network[\"Dst\"].isin(LR_nodes[\"identifier\"].tolist()))]\n",
    "\n",
    "# Update the lists of ligand and receptor identifiers (again)\n",
    "ligand_list = Omnipath_network[\"Src\"].tolist()\n",
    "receptor_list = Omnipath_network[\"Dst\"].tolist()\n",
    "\n",
    "# Assign unique numerical IDs to each node in LR_nodes\n",
    "LR_nodes[\"Id\"] = range(0, LR_nodes.shape[0])\n",
    "\n",
    "# Set the 'identifier' column back as the index\n",
    "LR_nodes.index = LR_nodes[\"identifier\"].tolist()\n",
    "\n",
    "# Replace source node identifiers in Omnipath_network with their corresponding IDs from LR_nodes\n",
    "Omnipath_network[\"Src\"] = LR_nodes.loc[Omnipath_network[\"Src\"].tolist()][\"Id\"].tolist()\n",
    "\n",
    "# Replace destination node identifiers in Omnipath_network with their corresponding IDs from LR_nodes\n",
    "Omnipath_network[\"Dst\"] = LR_nodes.loc[Omnipath_network[\"Dst\"].tolist()][\"Id\"].tolist()\n",
    "\n",
    "# Assign a uniform edge type to all interactions (replace 1 with a meaningful value if necessary)\n",
    "interactions[\"edge_type\"] = 1"
   ],
   "outputs": [],
   "execution_count": null
  },
  {
   "cell_type": "markdown",
   "source": [
    "# Preparing the Output Directory and Saving Data\n",
    "\n",
    "These CSV files will serve as the input data for GraphComm."
   ],
   "metadata": {
    "collapsed": false
   }
  },
  {
   "cell_type": "code",
   "metadata": {},
   "source": [
    "# Create the directory for the output files\n",
    "os.system(\"mkdir -p \" + preprocessed_folder_path)\n",
    "\n",
    "# Save the data to CSV files in the output directory\n",
    "nodes.to_csv(preprocessed_folder_path + \"/nodes.csv\")\n",
    "interactions.to_csv(preprocessed_folder_path + \"/interactions.csv\")\n",
    "meta.to_csv(preprocessed_folder_path + \"/meta.csv\")\n",
    "matrix.to_csv(preprocessed_folder_path + \"/matrix.csv\")\n",
    "LR_nodes.to_csv(preprocessed_folder_path + \"/LR_nodes.csv\")\n",
    "Omnipath_network.to_csv(preprocessed_folder_path + \"/Omnipath_network.csv\")"
   ],
   "outputs": [],
   "execution_count": null
  }
 ],
 "metadata": {
  "colab": {
   "collapsed_sections": [],
   "name": "2. Node Classification.ipynb",
   "provenance": []
  },
  "kernelspec": {
   "display_name": "Python 3",
   "language": "python",
   "name": "python3"
  },
  "language_info": {
   "codemirror_mode": {
    "name": "ipython",
    "version": 3
   },
   "file_extension": ".py",
   "mimetype": "text/x-python",
   "name": "python",
   "nbconvert_exporter": "python",
   "pygments_lexer": "ipython3",
   "version": "3.9.12"
  }
 },
 "nbformat": 4,
 "nbformat_minor": 4
}
